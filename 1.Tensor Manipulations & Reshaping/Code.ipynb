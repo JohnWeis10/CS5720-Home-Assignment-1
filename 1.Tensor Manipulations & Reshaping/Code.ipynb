{
 "cells": [
  {
   "cell_type": "markdown",
   "id": "5cbfc12a",
   "metadata": {},
   "source": [
    "Tensor Manipulations & Reshaping\n",
    "\n",
    "Task: Tensor Reshaping & Operations\n",
    "\n",
    "1.\tCreate a random tensor of shape (4, 6).\n",
    "2.\tFind its rank and shape using TensorFlow functions.\n",
    "3.\tReshape it into (2, 3, 4) and transpose it to (3, 2, 4).\n",
    "4.\tBroadcast a smaller tensor (1, 4) to match the larger tensor and add them.\n",
    "5.\tExplain how broadcasting works in TensorFlow.\n",
    "\n",
    "Expected Output:\n",
    "\n",
    "•\tPrint rank and shape of the tensor before and after reshaping/transposing.\n"
   ]
  },
  {
   "cell_type": "code",
   "execution_count": null,
   "id": "55870dbd",
   "metadata": {},
   "outputs": [],
   "source": [
    "# necessary imports\n",
    "import tensorflow as tf"
   ]
  },
  {
   "cell_type": "code",
   "execution_count": null,
   "id": "301f2d84",
   "metadata": {},
   "outputs": [],
   "source": [
    "#\tCreate a random tensor of shape (4, 6).\n",
    "tensor = tf.random.normal([4,6])"
   ]
  },
  {
   "cell_type": "code",
   "execution_count": null,
   "id": "2bc62813",
   "metadata": {},
   "outputs": [
    {
     "name": "stdout",
     "output_type": "stream",
     "text": [
      "Original Rank: 2\n",
      "Original Shape: [4 6]\n"
     ]
    }
   ],
   "source": [
    "#\tFind its rank and shape using TensorFlow functions.\n",
    "rank = tf.rank(tensor)\n",
    "shape = tf.shape(tensor)\n",
    "\n",
    "#print rank and shape\n",
    "print(f\"Original Rank: {rank.numpy()}\")\n",
    "print(f\"Original Shape: {shape.numpy()}\")"
   ]
  },
  {
   "cell_type": "code",
   "execution_count": null,
   "id": "c62f5334",
   "metadata": {},
   "outputs": [
    {
     "name": "stdout",
     "output_type": "stream",
     "text": [
      "\n",
      "Reshaped Tensor (2, 3, 4):\n",
      "Reshaped Rank: 3\n",
      "Reshaped Shape: [2 3 4]\n",
      "\n",
      "Transposed Tensor (3, 2, 4):\n",
      "Transposed Rank: 3\n",
      "Transposed Shape: [3 2 4]\n"
     ]
    }
   ],
   "source": [
    "#\tReshape it into (2, 3, 4) and transpose it to (3, 2, 4).\n",
    "\n",
    "#reshape tensor\n",
    "reshaped_tensor = tf.reshape(tensor, (2, 3, 4))\n",
    "\n",
    "# get and print the reshaped_tensor rank and shape\n",
    "print(\"\\nReshaped Tensor:\")\n",
    "reshaped_rank = tf.rank(reshaped_tensor)\n",
    "reshaped_shape = tf.shape(reshaped_tensor)\n",
    "print(f\"Reshaped Rank: {reshaped_rank.numpy()}\")\n",
    "print(f\"Reshaped Shape: {reshaped_shape.numpy()}\")\n",
    "\n",
    "# transpose tensor\n",
    "transposed_tensor = tf.transpose(reshaped_tensor, perm=[1, 0, 2])\n",
    "\n",
    "# get and print the transposed_tensor rank and shape\n",
    "print(\"\\nTransposed Tensor:\")\n",
    "transposed_rank = tf.rank(transposed_tensor)\n",
    "transposed_shape = tf.shape(transposed_tensor)\n",
    "print(f\"Transposed Rank: {transposed_rank.numpy()}\")\n",
    "print(f\"Transposed Shape: {transposed_shape.numpy()}\")"
   ]
  },
  {
   "cell_type": "code",
   "execution_count": null,
   "id": "e3e8fa30",
   "metadata": {},
   "outputs": [
    {
     "name": "stdout",
     "output_type": "stream",
     "text": [
      "\n",
      "Smaller Tensor (1, 4):\n",
      "tf.Tensor([[1. 2. 3. 4.]], shape=(1, 4), dtype=float32)\n",
      "\n",
      "Transposed Tensor (3, 2, 4):\n",
      "tf.Tensor(\n",
      "[[[-2.1951766   0.8756059   0.608644   -1.7067106 ]\n",
      "  [-0.6313516  -0.889982   -0.3478521   1.9041904 ]]\n",
      "\n",
      " [[ 0.7610917  -0.03532629 -2.1219616  -1.5645102 ]\n",
      "  [ 0.56109107  0.63317007  0.8806401   0.58040607]]\n",
      "\n",
      " [[ 0.18795833  0.32119533 -0.2941246  -0.5941334 ]\n",
      "  [ 0.19355945 -0.12232149 -0.17201278 -0.02884469]]], shape=(3, 2, 4), dtype=float32)\n",
      "\n",
      "Broadcasting Sum:\n",
      "tf.Tensor(\n",
      "[[[-1.1951766  2.8756058  3.608644   2.2932894]\n",
      "  [ 0.3686484  1.110018   2.6521478  5.9041905]]\n",
      "\n",
      " [[ 1.7610917  1.9646738  0.8780384  2.4354897]\n",
      "  [ 1.5610911  2.6331701  3.88064    4.580406 ]]\n",
      "\n",
      " [[ 1.1879584  2.3211954  2.7058754  3.4058666]\n",
      "  [ 1.1935594  1.8776785  2.8279872  3.9711554]]], shape=(3, 2, 4), dtype=float32)\n"
     ]
    }
   ],
   "source": [
    "#\tBroadcast a smaller tensor (1, 4) to match the larger tensor and add them.\n",
    "\n",
    "# create a small tensor\n",
    "smaller_tensor = tf.constant([[1, 2, 3, 4]], dtype=tf.float32)\n",
    "\n",
    "# brodcast small tensor to the larger tensor and add them\n",
    "broadcasted_sum = transposed_tensor + smaller_tensor\n",
    "\n",
    "# compare the tensors and broadcasting result\n",
    "print(\"\\nSmaller Tensor (1, 4):\")\n",
    "print(smaller_tensor)\n",
    "\n",
    "print(\"\\nTransposed Tensor (3, 2, 4):\")\n",
    "print(transposed_tensor)\n",
    "\n",
    "print(\"\\nBroadcasting Sum:\")\n",
    "print(broadcasted_sum)"
   ]
  },
  {
   "cell_type": "markdown",
   "id": "d21c600a",
   "metadata": {},
   "source": [
    "Explain how broadcasting works in TensorFlow.\n",
    "\n",
    "The original smaller tensor has dimensions [1,4]. Broadcasting shifts the dimension of the smaller tensor to the rightmost of the larger tensor ie: [0,1,4]. Tensorflow fills any zero dimensions with a 1 [1,1,4] and then adds copies of the smaller tensor in its missing dimensions to match the larger tensor [3,2,4] "
   ]
  }
 ],
 "metadata": {
  "kernelspec": {
   "display_name": "Python 3",
   "language": "python",
   "name": "python3"
  },
  "language_info": {
   "codemirror_mode": {
    "name": "ipython",
    "version": 3
   },
   "file_extension": ".py",
   "mimetype": "text/x-python",
   "name": "python",
   "nbconvert_exporter": "python",
   "pygments_lexer": "ipython3",
   "version": "3.12.1"
  }
 },
 "nbformat": 4,
 "nbformat_minor": 5
}
